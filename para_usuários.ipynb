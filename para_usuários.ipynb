{
 "cells": [
  {
   "cell_type": "markdown",
   "id": "82f02eba",
   "metadata": {
    "heading_collapsed": true
   },
   "source": [
    "# Bibliotecas e Importações"
   ]
  },
  {
   "cell_type": "code",
   "execution_count": 1,
   "id": "91fefba2",
   "metadata": {
    "ExecuteTime": {
     "end_time": "2022-10-06T20:54:24.971478Z",
     "start_time": "2022-10-06T20:54:24.550914Z"
    },
    "hidden": true
   },
   "outputs": [],
   "source": [
    "import joblib\n",
    "import pandas as pd\n",
    "model = joblib.load('bot_apostas.pkl')"
   ]
  },
  {
   "cell_type": "markdown",
   "id": "784ab567",
   "metadata": {
    "ExecuteTime": {
     "start_time": "2022-10-06T20:33:11.653Z"
    },
    "heading_collapsed": true
   },
   "source": [
    "# Funções "
   ]
  },
  {
   "cell_type": "code",
   "execution_count": 18,
   "id": "b53c0c89",
   "metadata": {
    "ExecuteTime": {
     "end_time": "2022-10-06T21:09:53.738429Z",
     "start_time": "2022-10-06T21:09:53.719190Z"
    },
    "hidden": true
   },
   "outputs": [],
   "source": [
    "def coleta_info():\n",
    "    ppg_home = input('Por favor insira o PPG(Pontos por Partida) do time da casa: ')\n",
    "    \n",
    "    if ppg_home.replace('.','').isdigit():\n",
    "        ppg_home = float(ppg_home)\n",
    "    else:\n",
    "        print('por favor insira somente números')\n",
    "        coleta_info()\n",
    "    \n",
    "    ppg_away = input('Por favor insira o PPG(Pontos por Partida) do time visitante: ')\n",
    "    \n",
    "    if ppg_away.replace('.','').isdigit():\n",
    "        ppg_away = float(ppg_away)\n",
    "    else:\n",
    "        print('por favor insira somente números')\n",
    "        coleta_info()\n",
    "        \n",
    "    home_mean_gol = input('Por favor insira a média de gols do time da casa das últimas 3 partidas em que ele jogou como mandante: ')\n",
    "    \n",
    "    if home_mean_gol.replace('.','').isdigit():\n",
    "        home_mean_gol = float(home_mean_gol)\n",
    "    else:\n",
    "         print('por favor insira somente números')\n",
    "         coleta_info()\n",
    "    \n",
    "    away_mean_gol = input('Por favor insira a média de gols do time visitante das últimas 3 partidas em que ele jogou como visitante: ')\n",
    "    \n",
    "    if away_mean_gol.replace('.','').isdigit():\n",
    "        away_mean_gol = float(away_mean_gol)\n",
    "    else:\n",
    "         print('por favor insira somente números')\n",
    "         coleta_info()\n",
    "    return ppg_home,ppg_away,home_mean_gol,away_mean_gol\n",
    "\n",
    "def previsao():\n",
    "    df = pd.DataFrame(coleta_info()).T\n",
    "    \n",
    "    df.columns = ['Pre-Match PPG (Home)','Pre-Match PPG (Away)','home_team_goal_count','away_team_goal_count']\n",
    "    \n",
    "    resposta = model.predict(df)\n",
    "    \n",
    "    if resposta[0]:\n",
    "        print('O time da casa irá ganhar ou empatar')\n",
    "    else:\n",
    "        print('O time da casa irá perder')"
   ]
  },
  {
   "cell_type": "markdown",
   "id": "08b3d77b",
   "metadata": {
    "heading_collapsed": true
   },
   "source": [
    "# Previsões"
   ]
  },
  {
   "cell_type": "code",
   "execution_count": 19,
   "id": "f7ff0f38",
   "metadata": {
    "ExecuteTime": {
     "end_time": "2022-10-06T21:11:11.058555Z",
     "start_time": "2022-10-06T21:10:20.499289Z"
    },
    "hidden": true
   },
   "outputs": [
    {
     "name": "stdout",
     "output_type": "stream",
     "text": [
      "Por favor insira o PPG(Pontos por Partida) do time da casa: 2.17\n",
      "Por favor insira o PPG(Pontos por Partida) do time visitante: 1.11\n",
      "Por favor insira a média de gols do time da casa das últimas 3 partidas em que ele jogou como mandante: 1.66\n",
      "Por favor insira a média de gols do time visitante das últimas 3 partidas em que ele jogou como visitante: 0.66\n",
      "O time da casa irá ganhar ou empatar\n"
     ]
    },
    {
     "name": "stderr",
     "output_type": "stream",
     "text": [
      "C:\\Users\\guilh\\anaconda3\\envs\\final_project\\lib\\site-packages\\pycaret\\internal\\preprocess.py:1721: FutureWarning: The default value of regex will change from True to False in a future version.\n",
      "  data.columns = data.columns.str.replace(r\"[\\,\\}\\{\\]\\[\\:\\\"\\']\", \"\")\n"
     ]
    }
   ],
   "source": [
    "previsao()"
   ]
  }
 ],
 "metadata": {
  "kernelspec": {
   "display_name": "firstEnv",
   "language": "python",
   "name": "firstenv"
  },
  "language_info": {
   "codemirror_mode": {
    "name": "ipython",
    "version": 3
   },
   "file_extension": ".py",
   "mimetype": "text/x-python",
   "name": "python",
   "nbconvert_exporter": "python",
   "pygments_lexer": "ipython3",
   "version": "3.8.13"
  },
  "toc": {
   "base_numbering": 1,
   "nav_menu": {},
   "number_sections": true,
   "sideBar": true,
   "skip_h1_title": false,
   "title_cell": "Table of Contents",
   "title_sidebar": "Contents",
   "toc_cell": false,
   "toc_position": {},
   "toc_section_display": true,
   "toc_window_display": false
  },
  "varInspector": {
   "cols": {
    "lenName": 16,
    "lenType": 16,
    "lenVar": 40
   },
   "kernels_config": {
    "python": {
     "delete_cmd_postfix": "",
     "delete_cmd_prefix": "del ",
     "library": "var_list.py",
     "varRefreshCmd": "print(var_dic_list())"
    },
    "r": {
     "delete_cmd_postfix": ") ",
     "delete_cmd_prefix": "rm(",
     "library": "var_list.r",
     "varRefreshCmd": "cat(var_dic_list()) "
    }
   },
   "types_to_exclude": [
    "module",
    "function",
    "builtin_function_or_method",
    "instance",
    "_Feature"
   ],
   "window_display": false
  }
 },
 "nbformat": 4,
 "nbformat_minor": 5
}
