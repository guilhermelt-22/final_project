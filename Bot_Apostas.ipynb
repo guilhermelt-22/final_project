{
 "cells": [
  {
   "cell_type": "markdown",
   "id": "55b9a837",
   "metadata": {
    "ExecuteTime": {
     "end_time": "2022-09-30T17:32:20.097214Z",
     "start_time": "2022-09-30T17:32:14.782371Z"
    },
    "heading_collapsed": true
   },
   "source": [
    "# Bibliotecas "
   ]
  },
  {
   "cell_type": "code",
   "execution_count": 1,
   "id": "e0886355",
   "metadata": {
    "ExecuteTime": {
     "end_time": "2022-10-03T17:23:40.299056Z",
     "start_time": "2022-10-03T17:23:37.681019Z"
    },
    "hidden": true
   },
   "outputs": [],
   "source": [
    "import pandas as pd\n",
    "import numpy as np\n",
    "import re\n",
    "from pycaret.classification import *"
   ]
  },
  {
   "cell_type": "markdown",
   "id": "4b2fbdbd",
   "metadata": {
    "heading_collapsed": true
   },
   "source": [
    "# Importação das Informações "
   ]
  },
  {
   "cell_type": "code",
   "execution_count": 2,
   "id": "66d8d8df",
   "metadata": {
    "ExecuteTime": {
     "end_time": "2022-10-03T17:23:40.329955Z",
     "start_time": "2022-10-03T17:23:40.301021Z"
    },
    "hidden": true
   },
   "outputs": [],
   "source": [
    "#importação das partidas \n",
    "partidas_2017 = pd.read_csv('data/2017_partidas.csv')\n",
    "partidas_2016 = pd.read_csv('data/2016_partidas.csv')\n",
    "partidas_2015 = pd.read_csv('data/2015_partidas.csv')\n",
    "partidas_2014 = pd.read_csv('data/2014_partidas.csv')"
   ]
  },
  {
   "cell_type": "code",
   "execution_count": 3,
   "id": "330272eb",
   "metadata": {
    "ExecuteTime": {
     "end_time": "2022-10-03T17:23:40.548725Z",
     "start_time": "2022-10-03T17:23:40.331920Z"
    },
    "hidden": true
   },
   "outputs": [],
   "source": [
    "#importação dos scouts\n",
    "scouts_2017 = pd.read_csv('data/2017_scouts.csv')\n",
    "scouts_2016 = pd.read_csv('data/2016_scouts.csv')\n",
    "scouts_2015 = pd.read_csv('data/2015_scouts.csv')\n",
    "scouts_2014 = pd.read_csv('data/2014_scouts.csv')"
   ]
  },
  {
   "cell_type": "code",
   "execution_count": 4,
   "id": "c7b4150e",
   "metadata": {
    "ExecuteTime": {
     "end_time": "2022-10-03T17:23:40.564681Z",
     "start_time": "2022-10-03T17:23:40.549721Z"
    },
    "hidden": true
   },
   "outputs": [],
   "source": [
    "#importação dos clubes \n",
    "clubes_2017 = pd.read_csv('data/2017_clubes.csv')\n",
    "clubes_2016 = pd.read_csv('data/2016_clubes.csv')\n",
    "clubes_2015 = pd.read_csv('data/2015_clubes.csv')\n",
    "clubes_2014 = pd.read_csv('data/2014_clubes.csv')"
   ]
  },
  {
   "cell_type": "code",
   "execution_count": 5,
   "id": "a95e6cec",
   "metadata": {
    "ExecuteTime": {
     "end_time": "2022-10-03T17:23:40.580638Z",
     "start_time": "2022-10-03T17:23:40.566676Z"
    },
    "hidden": true
   },
   "outputs": [],
   "source": [
    "#importação dos atletas\n",
    "atletas_2017 = pd.read_csv('data/2017_atletas.csv')\n",
    "atletas_2016 = pd.read_csv('data/2016_atletas.csv')\n",
    "atletas_2015 = pd.read_csv('data/2015_atletas.csv')\n",
    "atletas_2014 = pd.read_csv('data/2014_atletas.csv')"
   ]
  },
  {
   "cell_type": "markdown",
   "id": "94ce5bf2",
   "metadata": {
    "heading_collapsed": true
   },
   "source": [
    "# Junção das Tabelas"
   ]
  },
  {
   "cell_type": "code",
   "execution_count": 6,
   "id": "724699b0",
   "metadata": {
    "ExecuteTime": {
     "end_time": "2022-10-03T17:23:40.595915Z",
     "start_time": "2022-10-03T17:23:40.582633Z"
    },
    "hidden": true
   },
   "outputs": [],
   "source": [
    "partidas = partidas_2017"
   ]
  },
  {
   "cell_type": "markdown",
   "id": "656fd8d6",
   "metadata": {},
   "source": [
    "# Transformação de Dados"
   ]
  },
  {
   "cell_type": "code",
   "execution_count": 7,
   "id": "a5dac90a",
   "metadata": {
    "ExecuteTime": {
     "end_time": "2022-10-03T17:23:40.610679Z",
     "start_time": "2022-10-03T17:23:40.597286Z"
    }
   },
   "outputs": [],
   "source": [
    "#como no dataset de partidas não fala o resultado(vitória, empate ou derrota)\n",
    "partidas['resultado'] = 0\n",
    "partidas.loc[partidas['placar_oficial_mandante'] > partidas['placar_oficial_visitante'],'resultado'] = 1\n",
    "partidas.loc[partidas['placar_oficial_mandante'] < partidas['placar_oficial_visitante'],'resultado'] = -1"
   ]
  },
  {
   "cell_type": "code",
   "execution_count": 8,
   "id": "870f899f",
   "metadata": {
    "ExecuteTime": {
     "end_time": "2022-10-03T17:23:40.626665Z",
     "start_time": "2022-10-03T17:23:40.611715Z"
    }
   },
   "outputs": [],
   "source": [
    "#transformação dos aproveitamentos \n",
    "partidas['vitorias_recentes_mandante'] = partidas['aproveitamento_mandante'].str.count('v')\n",
    "partidas['empates_recentes_mandante'] = partidas['aproveitamento_mandante'].str.count('e')\n",
    "partidas['derrotas_recentes_mandante'] = partidas['aproveitamento_mandante'].str.count('d')\n",
    "partidas['vitorias_recentes_visitante'] = partidas['aproveitamento_visitante'].str.count('v')\n",
    "partidas['empates_recentes_visitante'] = partidas['aproveitamento_visitante'].str.count('e')\n",
    "partidas['derrotas_recentes_visitante'] = partidas['aproveitamento_visitante'].str.count('d')"
   ]
  },
  {
   "cell_type": "code",
   "execution_count": 9,
   "id": "e8b2dfa6",
   "metadata": {
    "ExecuteTime": {
     "end_time": "2022-10-03T17:23:40.642724Z",
     "start_time": "2022-10-03T17:23:40.629656Z"
    }
   },
   "outputs": [],
   "source": [
    "#transformação para int64 da coluna valida\n",
    "partidas['valida'] = partidas['valida'].astype('int64')"
   ]
  },
  {
   "cell_type": "code",
   "execution_count": 10,
   "id": "c72d482f",
   "metadata": {
    "ExecuteTime": {
     "end_time": "2022-10-03T17:23:40.658567Z",
     "start_time": "2022-10-03T17:23:40.643607Z"
    }
   },
   "outputs": [],
   "source": [
    "#removendo vazamento de dados e dados já transformados\n",
    "partidas.drop(columns=['aproveitamento_visitante','aproveitamento_mandante','placar_oficial_visitante','placar_oficial_mandante'], inplace=True)"
   ]
  },
  {
   "cell_type": "code",
   "execution_count": 11,
   "id": "272ac753",
   "metadata": {
    "ExecuteTime": {
     "end_time": "2022-10-03T17:23:40.674641Z",
     "start_time": "2022-10-03T17:23:40.660562Z"
    }
   },
   "outputs": [],
   "source": [
    "#remoção de colunas inuteis para o modelo\n",
    "partidas.drop(columns=['partida_data', 'local','clube_casa_id','clube_visitante_id'],inplace=True)"
   ]
  },
  {
   "cell_type": "code",
   "execution_count": 21,
   "id": "cf4e21e9",
   "metadata": {
    "ExecuteTime": {
     "end_time": "2022-10-03T17:28:03.090298Z",
     "start_time": "2022-10-03T17:28:03.069362Z"
    }
   },
   "outputs": [
    {
     "name": "stdout",
     "output_type": "stream",
     "text": [
      "<class 'pandas.core.frame.DataFrame'>\n",
      "RangeIndex: 200 entries, 0 to 199\n",
      "Data columns (total 11 columns):\n",
      " #   Column                       Non-Null Count  Dtype\n",
      "---  ------                       --------------  -----\n",
      " 0   rodada_id                    200 non-null    int64\n",
      " 1   clube_casa_posicao           200 non-null    int64\n",
      " 2   clube_visitante_posicao      200 non-null    int64\n",
      " 3   valida                       200 non-null    int64\n",
      " 4   resultado                    200 non-null    int64\n",
      " 5   vitorias_recentes_mandante   200 non-null    int64\n",
      " 6   empates_recentes_mandante    200 non-null    int64\n",
      " 7   derrotas_recentes_mandante   200 non-null    int64\n",
      " 8   vitorias_recentes_visitante  200 non-null    int64\n",
      " 9   empates_recentes_visitante   200 non-null    int64\n",
      " 10  derrotas_recentes_visitante  200 non-null    int64\n",
      "dtypes: int64(11)\n",
      "memory usage: 17.3 KB\n"
     ]
    }
   ],
   "source": [
    "partidas.info()"
   ]
  },
  {
   "cell_type": "code",
   "execution_count": 24,
   "id": "f5b55e3b",
   "metadata": {
    "ExecuteTime": {
     "end_time": "2022-10-03T17:29:07.192596Z",
     "start_time": "2022-10-03T17:29:07.181653Z"
    }
   },
   "outputs": [],
   "source": [
    "#transformação para int32 do dataframe\n",
    "partidas = partidas.astype('int32')"
   ]
  },
  {
   "cell_type": "markdown",
   "id": "f6e7bffd",
   "metadata": {},
   "source": [
    "# Modelagem"
   ]
  },
  {
   "cell_type": "code",
   "execution_count": 25,
   "id": "beb29463",
   "metadata": {
    "ExecuteTime": {
     "end_time": "2022-10-03T17:29:21.549972Z",
     "start_time": "2022-10-03T17:29:09.670482Z"
    }
   },
   "outputs": [
    {
     "data": {
      "text/html": [
       "<style type=\"text/css\">\n",
       "#T_00d70_row44_col1 {\n",
       "  background-color: lightgreen;\n",
       "}\n",
       "</style>\n",
       "<table id=\"T_00d70\">\n",
       "  <thead>\n",
       "    <tr>\n",
       "      <th class=\"blank level0\" >&nbsp;</th>\n",
       "      <th id=\"T_00d70_level0_col0\" class=\"col_heading level0 col0\" >Description</th>\n",
       "      <th id=\"T_00d70_level0_col1\" class=\"col_heading level0 col1\" >Value</th>\n",
       "    </tr>\n",
       "  </thead>\n",
       "  <tbody>\n",
       "    <tr>\n",
       "      <th id=\"T_00d70_level0_row0\" class=\"row_heading level0 row0\" >0</th>\n",
       "      <td id=\"T_00d70_row0_col0\" class=\"data row0 col0\" >session_id</td>\n",
       "      <td id=\"T_00d70_row0_col1\" class=\"data row0 col1\" >42</td>\n",
       "    </tr>\n",
       "    <tr>\n",
       "      <th id=\"T_00d70_level0_row1\" class=\"row_heading level0 row1\" >1</th>\n",
       "      <td id=\"T_00d70_row1_col0\" class=\"data row1 col0\" >Target</td>\n",
       "      <td id=\"T_00d70_row1_col1\" class=\"data row1 col1\" >resultado</td>\n",
       "    </tr>\n",
       "    <tr>\n",
       "      <th id=\"T_00d70_level0_row2\" class=\"row_heading level0 row2\" >2</th>\n",
       "      <td id=\"T_00d70_row2_col0\" class=\"data row2 col0\" >Target Type</td>\n",
       "      <td id=\"T_00d70_row2_col1\" class=\"data row2 col1\" >Multiclass</td>\n",
       "    </tr>\n",
       "    <tr>\n",
       "      <th id=\"T_00d70_level0_row3\" class=\"row_heading level0 row3\" >3</th>\n",
       "      <td id=\"T_00d70_row3_col0\" class=\"data row3 col0\" >Label Encoded</td>\n",
       "      <td id=\"T_00d70_row3_col1\" class=\"data row3 col1\" >None</td>\n",
       "    </tr>\n",
       "    <tr>\n",
       "      <th id=\"T_00d70_level0_row4\" class=\"row_heading level0 row4\" >4</th>\n",
       "      <td id=\"T_00d70_row4_col0\" class=\"data row4 col0\" >Original Data</td>\n",
       "      <td id=\"T_00d70_row4_col1\" class=\"data row4 col1\" >(200, 11)</td>\n",
       "    </tr>\n",
       "    <tr>\n",
       "      <th id=\"T_00d70_level0_row5\" class=\"row_heading level0 row5\" >5</th>\n",
       "      <td id=\"T_00d70_row5_col0\" class=\"data row5 col0\" >Missing Values</td>\n",
       "      <td id=\"T_00d70_row5_col1\" class=\"data row5 col1\" >False</td>\n",
       "    </tr>\n",
       "    <tr>\n",
       "      <th id=\"T_00d70_level0_row6\" class=\"row_heading level0 row6\" >6</th>\n",
       "      <td id=\"T_00d70_row6_col0\" class=\"data row6 col0\" >Numeric Features</td>\n",
       "      <td id=\"T_00d70_row6_col1\" class=\"data row6 col1\" >10</td>\n",
       "    </tr>\n",
       "    <tr>\n",
       "      <th id=\"T_00d70_level0_row7\" class=\"row_heading level0 row7\" >7</th>\n",
       "      <td id=\"T_00d70_row7_col0\" class=\"data row7 col0\" >Categorical Features</td>\n",
       "      <td id=\"T_00d70_row7_col1\" class=\"data row7 col1\" >0</td>\n",
       "    </tr>\n",
       "    <tr>\n",
       "      <th id=\"T_00d70_level0_row8\" class=\"row_heading level0 row8\" >8</th>\n",
       "      <td id=\"T_00d70_row8_col0\" class=\"data row8 col0\" >Ordinal Features</td>\n",
       "      <td id=\"T_00d70_row8_col1\" class=\"data row8 col1\" >False</td>\n",
       "    </tr>\n",
       "    <tr>\n",
       "      <th id=\"T_00d70_level0_row9\" class=\"row_heading level0 row9\" >9</th>\n",
       "      <td id=\"T_00d70_row9_col0\" class=\"data row9 col0\" >High Cardinality Features</td>\n",
       "      <td id=\"T_00d70_row9_col1\" class=\"data row9 col1\" >False</td>\n",
       "    </tr>\n",
       "    <tr>\n",
       "      <th id=\"T_00d70_level0_row10\" class=\"row_heading level0 row10\" >10</th>\n",
       "      <td id=\"T_00d70_row10_col0\" class=\"data row10 col0\" >High Cardinality Method</td>\n",
       "      <td id=\"T_00d70_row10_col1\" class=\"data row10 col1\" >None</td>\n",
       "    </tr>\n",
       "    <tr>\n",
       "      <th id=\"T_00d70_level0_row11\" class=\"row_heading level0 row11\" >11</th>\n",
       "      <td id=\"T_00d70_row11_col0\" class=\"data row11 col0\" >Transformed Train Set</td>\n",
       "      <td id=\"T_00d70_row11_col1\" class=\"data row11 col1\" >(139, 10)</td>\n",
       "    </tr>\n",
       "    <tr>\n",
       "      <th id=\"T_00d70_level0_row12\" class=\"row_heading level0 row12\" >12</th>\n",
       "      <td id=\"T_00d70_row12_col0\" class=\"data row12 col0\" >Transformed Test Set</td>\n",
       "      <td id=\"T_00d70_row12_col1\" class=\"data row12 col1\" >(61, 10)</td>\n",
       "    </tr>\n",
       "    <tr>\n",
       "      <th id=\"T_00d70_level0_row13\" class=\"row_heading level0 row13\" >13</th>\n",
       "      <td id=\"T_00d70_row13_col0\" class=\"data row13 col0\" >Shuffle Train-Test</td>\n",
       "      <td id=\"T_00d70_row13_col1\" class=\"data row13 col1\" >True</td>\n",
       "    </tr>\n",
       "    <tr>\n",
       "      <th id=\"T_00d70_level0_row14\" class=\"row_heading level0 row14\" >14</th>\n",
       "      <td id=\"T_00d70_row14_col0\" class=\"data row14 col0\" >Stratify Train-Test</td>\n",
       "      <td id=\"T_00d70_row14_col1\" class=\"data row14 col1\" >False</td>\n",
       "    </tr>\n",
       "    <tr>\n",
       "      <th id=\"T_00d70_level0_row15\" class=\"row_heading level0 row15\" >15</th>\n",
       "      <td id=\"T_00d70_row15_col0\" class=\"data row15 col0\" >Fold Generator</td>\n",
       "      <td id=\"T_00d70_row15_col1\" class=\"data row15 col1\" >StratifiedKFold</td>\n",
       "    </tr>\n",
       "    <tr>\n",
       "      <th id=\"T_00d70_level0_row16\" class=\"row_heading level0 row16\" >16</th>\n",
       "      <td id=\"T_00d70_row16_col0\" class=\"data row16 col0\" >Fold Number</td>\n",
       "      <td id=\"T_00d70_row16_col1\" class=\"data row16 col1\" >10</td>\n",
       "    </tr>\n",
       "    <tr>\n",
       "      <th id=\"T_00d70_level0_row17\" class=\"row_heading level0 row17\" >17</th>\n",
       "      <td id=\"T_00d70_row17_col0\" class=\"data row17 col0\" >CPU Jobs</td>\n",
       "      <td id=\"T_00d70_row17_col1\" class=\"data row17 col1\" >-1</td>\n",
       "    </tr>\n",
       "    <tr>\n",
       "      <th id=\"T_00d70_level0_row18\" class=\"row_heading level0 row18\" >18</th>\n",
       "      <td id=\"T_00d70_row18_col0\" class=\"data row18 col0\" >Use GPU</td>\n",
       "      <td id=\"T_00d70_row18_col1\" class=\"data row18 col1\" >False</td>\n",
       "    </tr>\n",
       "    <tr>\n",
       "      <th id=\"T_00d70_level0_row19\" class=\"row_heading level0 row19\" >19</th>\n",
       "      <td id=\"T_00d70_row19_col0\" class=\"data row19 col0\" >Log Experiment</td>\n",
       "      <td id=\"T_00d70_row19_col1\" class=\"data row19 col1\" >False</td>\n",
       "    </tr>\n",
       "    <tr>\n",
       "      <th id=\"T_00d70_level0_row20\" class=\"row_heading level0 row20\" >20</th>\n",
       "      <td id=\"T_00d70_row20_col0\" class=\"data row20 col0\" >Experiment Name</td>\n",
       "      <td id=\"T_00d70_row20_col1\" class=\"data row20 col1\" >clf-default-name</td>\n",
       "    </tr>\n",
       "    <tr>\n",
       "      <th id=\"T_00d70_level0_row21\" class=\"row_heading level0 row21\" >21</th>\n",
       "      <td id=\"T_00d70_row21_col0\" class=\"data row21 col0\" >USI</td>\n",
       "      <td id=\"T_00d70_row21_col1\" class=\"data row21 col1\" >c1f8</td>\n",
       "    </tr>\n",
       "    <tr>\n",
       "      <th id=\"T_00d70_level0_row22\" class=\"row_heading level0 row22\" >22</th>\n",
       "      <td id=\"T_00d70_row22_col0\" class=\"data row22 col0\" >Imputation Type</td>\n",
       "      <td id=\"T_00d70_row22_col1\" class=\"data row22 col1\" >simple</td>\n",
       "    </tr>\n",
       "    <tr>\n",
       "      <th id=\"T_00d70_level0_row23\" class=\"row_heading level0 row23\" >23</th>\n",
       "      <td id=\"T_00d70_row23_col0\" class=\"data row23 col0\" >Iterative Imputation Iteration</td>\n",
       "      <td id=\"T_00d70_row23_col1\" class=\"data row23 col1\" >None</td>\n",
       "    </tr>\n",
       "    <tr>\n",
       "      <th id=\"T_00d70_level0_row24\" class=\"row_heading level0 row24\" >24</th>\n",
       "      <td id=\"T_00d70_row24_col0\" class=\"data row24 col0\" >Numeric Imputer</td>\n",
       "      <td id=\"T_00d70_row24_col1\" class=\"data row24 col1\" >mean</td>\n",
       "    </tr>\n",
       "    <tr>\n",
       "      <th id=\"T_00d70_level0_row25\" class=\"row_heading level0 row25\" >25</th>\n",
       "      <td id=\"T_00d70_row25_col0\" class=\"data row25 col0\" >Iterative Imputation Numeric Model</td>\n",
       "      <td id=\"T_00d70_row25_col1\" class=\"data row25 col1\" >None</td>\n",
       "    </tr>\n",
       "    <tr>\n",
       "      <th id=\"T_00d70_level0_row26\" class=\"row_heading level0 row26\" >26</th>\n",
       "      <td id=\"T_00d70_row26_col0\" class=\"data row26 col0\" >Categorical Imputer</td>\n",
       "      <td id=\"T_00d70_row26_col1\" class=\"data row26 col1\" >constant</td>\n",
       "    </tr>\n",
       "    <tr>\n",
       "      <th id=\"T_00d70_level0_row27\" class=\"row_heading level0 row27\" >27</th>\n",
       "      <td id=\"T_00d70_row27_col0\" class=\"data row27 col0\" >Iterative Imputation Categorical Model</td>\n",
       "      <td id=\"T_00d70_row27_col1\" class=\"data row27 col1\" >None</td>\n",
       "    </tr>\n",
       "    <tr>\n",
       "      <th id=\"T_00d70_level0_row28\" class=\"row_heading level0 row28\" >28</th>\n",
       "      <td id=\"T_00d70_row28_col0\" class=\"data row28 col0\" >Unknown Categoricals Handling</td>\n",
       "      <td id=\"T_00d70_row28_col1\" class=\"data row28 col1\" >least_frequent</td>\n",
       "    </tr>\n",
       "    <tr>\n",
       "      <th id=\"T_00d70_level0_row29\" class=\"row_heading level0 row29\" >29</th>\n",
       "      <td id=\"T_00d70_row29_col0\" class=\"data row29 col0\" >Normalize</td>\n",
       "      <td id=\"T_00d70_row29_col1\" class=\"data row29 col1\" >False</td>\n",
       "    </tr>\n",
       "    <tr>\n",
       "      <th id=\"T_00d70_level0_row30\" class=\"row_heading level0 row30\" >30</th>\n",
       "      <td id=\"T_00d70_row30_col0\" class=\"data row30 col0\" >Normalize Method</td>\n",
       "      <td id=\"T_00d70_row30_col1\" class=\"data row30 col1\" >None</td>\n",
       "    </tr>\n",
       "    <tr>\n",
       "      <th id=\"T_00d70_level0_row31\" class=\"row_heading level0 row31\" >31</th>\n",
       "      <td id=\"T_00d70_row31_col0\" class=\"data row31 col0\" >Transformation</td>\n",
       "      <td id=\"T_00d70_row31_col1\" class=\"data row31 col1\" >False</td>\n",
       "    </tr>\n",
       "    <tr>\n",
       "      <th id=\"T_00d70_level0_row32\" class=\"row_heading level0 row32\" >32</th>\n",
       "      <td id=\"T_00d70_row32_col0\" class=\"data row32 col0\" >Transformation Method</td>\n",
       "      <td id=\"T_00d70_row32_col1\" class=\"data row32 col1\" >None</td>\n",
       "    </tr>\n",
       "    <tr>\n",
       "      <th id=\"T_00d70_level0_row33\" class=\"row_heading level0 row33\" >33</th>\n",
       "      <td id=\"T_00d70_row33_col0\" class=\"data row33 col0\" >PCA</td>\n",
       "      <td id=\"T_00d70_row33_col1\" class=\"data row33 col1\" >False</td>\n",
       "    </tr>\n",
       "    <tr>\n",
       "      <th id=\"T_00d70_level0_row34\" class=\"row_heading level0 row34\" >34</th>\n",
       "      <td id=\"T_00d70_row34_col0\" class=\"data row34 col0\" >PCA Method</td>\n",
       "      <td id=\"T_00d70_row34_col1\" class=\"data row34 col1\" >None</td>\n",
       "    </tr>\n",
       "    <tr>\n",
       "      <th id=\"T_00d70_level0_row35\" class=\"row_heading level0 row35\" >35</th>\n",
       "      <td id=\"T_00d70_row35_col0\" class=\"data row35 col0\" >PCA Components</td>\n",
       "      <td id=\"T_00d70_row35_col1\" class=\"data row35 col1\" >None</td>\n",
       "    </tr>\n",
       "    <tr>\n",
       "      <th id=\"T_00d70_level0_row36\" class=\"row_heading level0 row36\" >36</th>\n",
       "      <td id=\"T_00d70_row36_col0\" class=\"data row36 col0\" >Ignore Low Variance</td>\n",
       "      <td id=\"T_00d70_row36_col1\" class=\"data row36 col1\" >False</td>\n",
       "    </tr>\n",
       "    <tr>\n",
       "      <th id=\"T_00d70_level0_row37\" class=\"row_heading level0 row37\" >37</th>\n",
       "      <td id=\"T_00d70_row37_col0\" class=\"data row37 col0\" >Combine Rare Levels</td>\n",
       "      <td id=\"T_00d70_row37_col1\" class=\"data row37 col1\" >False</td>\n",
       "    </tr>\n",
       "    <tr>\n",
       "      <th id=\"T_00d70_level0_row38\" class=\"row_heading level0 row38\" >38</th>\n",
       "      <td id=\"T_00d70_row38_col0\" class=\"data row38 col0\" >Rare Level Threshold</td>\n",
       "      <td id=\"T_00d70_row38_col1\" class=\"data row38 col1\" >None</td>\n",
       "    </tr>\n",
       "    <tr>\n",
       "      <th id=\"T_00d70_level0_row39\" class=\"row_heading level0 row39\" >39</th>\n",
       "      <td id=\"T_00d70_row39_col0\" class=\"data row39 col0\" >Numeric Binning</td>\n",
       "      <td id=\"T_00d70_row39_col1\" class=\"data row39 col1\" >False</td>\n",
       "    </tr>\n",
       "    <tr>\n",
       "      <th id=\"T_00d70_level0_row40\" class=\"row_heading level0 row40\" >40</th>\n",
       "      <td id=\"T_00d70_row40_col0\" class=\"data row40 col0\" >Remove Outliers</td>\n",
       "      <td id=\"T_00d70_row40_col1\" class=\"data row40 col1\" >False</td>\n",
       "    </tr>\n",
       "    <tr>\n",
       "      <th id=\"T_00d70_level0_row41\" class=\"row_heading level0 row41\" >41</th>\n",
       "      <td id=\"T_00d70_row41_col0\" class=\"data row41 col0\" >Outliers Threshold</td>\n",
       "      <td id=\"T_00d70_row41_col1\" class=\"data row41 col1\" >None</td>\n",
       "    </tr>\n",
       "    <tr>\n",
       "      <th id=\"T_00d70_level0_row42\" class=\"row_heading level0 row42\" >42</th>\n",
       "      <td id=\"T_00d70_row42_col0\" class=\"data row42 col0\" >Remove Multicollinearity</td>\n",
       "      <td id=\"T_00d70_row42_col1\" class=\"data row42 col1\" >False</td>\n",
       "    </tr>\n",
       "    <tr>\n",
       "      <th id=\"T_00d70_level0_row43\" class=\"row_heading level0 row43\" >43</th>\n",
       "      <td id=\"T_00d70_row43_col0\" class=\"data row43 col0\" >Multicollinearity Threshold</td>\n",
       "      <td id=\"T_00d70_row43_col1\" class=\"data row43 col1\" >None</td>\n",
       "    </tr>\n",
       "    <tr>\n",
       "      <th id=\"T_00d70_level0_row44\" class=\"row_heading level0 row44\" >44</th>\n",
       "      <td id=\"T_00d70_row44_col0\" class=\"data row44 col0\" >Remove Perfect Collinearity</td>\n",
       "      <td id=\"T_00d70_row44_col1\" class=\"data row44 col1\" >True</td>\n",
       "    </tr>\n",
       "    <tr>\n",
       "      <th id=\"T_00d70_level0_row45\" class=\"row_heading level0 row45\" >45</th>\n",
       "      <td id=\"T_00d70_row45_col0\" class=\"data row45 col0\" >Clustering</td>\n",
       "      <td id=\"T_00d70_row45_col1\" class=\"data row45 col1\" >False</td>\n",
       "    </tr>\n",
       "    <tr>\n",
       "      <th id=\"T_00d70_level0_row46\" class=\"row_heading level0 row46\" >46</th>\n",
       "      <td id=\"T_00d70_row46_col0\" class=\"data row46 col0\" >Clustering Iteration</td>\n",
       "      <td id=\"T_00d70_row46_col1\" class=\"data row46 col1\" >None</td>\n",
       "    </tr>\n",
       "    <tr>\n",
       "      <th id=\"T_00d70_level0_row47\" class=\"row_heading level0 row47\" >47</th>\n",
       "      <td id=\"T_00d70_row47_col0\" class=\"data row47 col0\" >Polynomial Features</td>\n",
       "      <td id=\"T_00d70_row47_col1\" class=\"data row47 col1\" >False</td>\n",
       "    </tr>\n",
       "    <tr>\n",
       "      <th id=\"T_00d70_level0_row48\" class=\"row_heading level0 row48\" >48</th>\n",
       "      <td id=\"T_00d70_row48_col0\" class=\"data row48 col0\" >Polynomial Degree</td>\n",
       "      <td id=\"T_00d70_row48_col1\" class=\"data row48 col1\" >None</td>\n",
       "    </tr>\n",
       "    <tr>\n",
       "      <th id=\"T_00d70_level0_row49\" class=\"row_heading level0 row49\" >49</th>\n",
       "      <td id=\"T_00d70_row49_col0\" class=\"data row49 col0\" >Trignometry Features</td>\n",
       "      <td id=\"T_00d70_row49_col1\" class=\"data row49 col1\" >False</td>\n",
       "    </tr>\n",
       "    <tr>\n",
       "      <th id=\"T_00d70_level0_row50\" class=\"row_heading level0 row50\" >50</th>\n",
       "      <td id=\"T_00d70_row50_col0\" class=\"data row50 col0\" >Polynomial Threshold</td>\n",
       "      <td id=\"T_00d70_row50_col1\" class=\"data row50 col1\" >None</td>\n",
       "    </tr>\n",
       "    <tr>\n",
       "      <th id=\"T_00d70_level0_row51\" class=\"row_heading level0 row51\" >51</th>\n",
       "      <td id=\"T_00d70_row51_col0\" class=\"data row51 col0\" >Group Features</td>\n",
       "      <td id=\"T_00d70_row51_col1\" class=\"data row51 col1\" >False</td>\n",
       "    </tr>\n",
       "    <tr>\n",
       "      <th id=\"T_00d70_level0_row52\" class=\"row_heading level0 row52\" >52</th>\n",
       "      <td id=\"T_00d70_row52_col0\" class=\"data row52 col0\" >Feature Selection</td>\n",
       "      <td id=\"T_00d70_row52_col1\" class=\"data row52 col1\" >False</td>\n",
       "    </tr>\n",
       "    <tr>\n",
       "      <th id=\"T_00d70_level0_row53\" class=\"row_heading level0 row53\" >53</th>\n",
       "      <td id=\"T_00d70_row53_col0\" class=\"data row53 col0\" >Feature Selection Method</td>\n",
       "      <td id=\"T_00d70_row53_col1\" class=\"data row53 col1\" >classic</td>\n",
       "    </tr>\n",
       "    <tr>\n",
       "      <th id=\"T_00d70_level0_row54\" class=\"row_heading level0 row54\" >54</th>\n",
       "      <td id=\"T_00d70_row54_col0\" class=\"data row54 col0\" >Features Selection Threshold</td>\n",
       "      <td id=\"T_00d70_row54_col1\" class=\"data row54 col1\" >None</td>\n",
       "    </tr>\n",
       "    <tr>\n",
       "      <th id=\"T_00d70_level0_row55\" class=\"row_heading level0 row55\" >55</th>\n",
       "      <td id=\"T_00d70_row55_col0\" class=\"data row55 col0\" >Feature Interaction</td>\n",
       "      <td id=\"T_00d70_row55_col1\" class=\"data row55 col1\" >False</td>\n",
       "    </tr>\n",
       "    <tr>\n",
       "      <th id=\"T_00d70_level0_row56\" class=\"row_heading level0 row56\" >56</th>\n",
       "      <td id=\"T_00d70_row56_col0\" class=\"data row56 col0\" >Feature Ratio</td>\n",
       "      <td id=\"T_00d70_row56_col1\" class=\"data row56 col1\" >False</td>\n",
       "    </tr>\n",
       "    <tr>\n",
       "      <th id=\"T_00d70_level0_row57\" class=\"row_heading level0 row57\" >57</th>\n",
       "      <td id=\"T_00d70_row57_col0\" class=\"data row57 col0\" >Interaction Threshold</td>\n",
       "      <td id=\"T_00d70_row57_col1\" class=\"data row57 col1\" >None</td>\n",
       "    </tr>\n",
       "    <tr>\n",
       "      <th id=\"T_00d70_level0_row58\" class=\"row_heading level0 row58\" >58</th>\n",
       "      <td id=\"T_00d70_row58_col0\" class=\"data row58 col0\" >Fix Imbalance</td>\n",
       "      <td id=\"T_00d70_row58_col1\" class=\"data row58 col1\" >False</td>\n",
       "    </tr>\n",
       "    <tr>\n",
       "      <th id=\"T_00d70_level0_row59\" class=\"row_heading level0 row59\" >59</th>\n",
       "      <td id=\"T_00d70_row59_col0\" class=\"data row59 col0\" >Fix Imbalance Method</td>\n",
       "      <td id=\"T_00d70_row59_col1\" class=\"data row59 col1\" >SMOTE</td>\n",
       "    </tr>\n",
       "  </tbody>\n",
       "</table>\n"
      ],
      "text/plain": [
       "<pandas.io.formats.style.Styler at 0x24f1955ddc0>"
      ]
     },
     "metadata": {},
     "output_type": "display_data"
    }
   ],
   "source": [
    "classification = setup(data = partidas, target='resultado',session_id=42)"
   ]
  },
  {
   "cell_type": "code",
   "execution_count": 26,
   "id": "c8b94e0b",
   "metadata": {
    "ExecuteTime": {
     "end_time": "2022-10-03T17:29:37.402992Z",
     "start_time": "2022-10-03T17:29:31.879789Z"
    }
   },
   "outputs": [
    {
     "data": {
      "text/html": [
       "<style type=\"text/css\">\n",
       "#T_442c7 th {\n",
       "  text-align: left;\n",
       "}\n",
       "#T_442c7_row0_col0, #T_442c7_row0_col2, #T_442c7_row1_col0, #T_442c7_row1_col1, #T_442c7_row1_col2, #T_442c7_row1_col3, #T_442c7_row1_col4, #T_442c7_row1_col5, #T_442c7_row1_col6, #T_442c7_row1_col7, #T_442c7_row2_col0, #T_442c7_row2_col1, #T_442c7_row2_col3, #T_442c7_row2_col4, #T_442c7_row2_col5, #T_442c7_row2_col6, #T_442c7_row2_col7, #T_442c7_row3_col0, #T_442c7_row3_col1, #T_442c7_row3_col2, #T_442c7_row3_col3, #T_442c7_row3_col4, #T_442c7_row3_col5, #T_442c7_row3_col6, #T_442c7_row3_col7, #T_442c7_row4_col0, #T_442c7_row4_col1, #T_442c7_row4_col2, #T_442c7_row4_col3, #T_442c7_row4_col4, #T_442c7_row4_col5, #T_442c7_row4_col6, #T_442c7_row4_col7, #T_442c7_row5_col0, #T_442c7_row5_col1, #T_442c7_row5_col2, #T_442c7_row5_col3, #T_442c7_row5_col4, #T_442c7_row5_col5, #T_442c7_row5_col6, #T_442c7_row5_col7, #T_442c7_row6_col0, #T_442c7_row6_col1, #T_442c7_row6_col2, #T_442c7_row6_col3, #T_442c7_row6_col4, #T_442c7_row6_col5, #T_442c7_row6_col6, #T_442c7_row6_col7, #T_442c7_row7_col0, #T_442c7_row7_col1, #T_442c7_row7_col2, #T_442c7_row7_col3, #T_442c7_row7_col4, #T_442c7_row7_col5, #T_442c7_row7_col6, #T_442c7_row7_col7, #T_442c7_row8_col0, #T_442c7_row8_col1, #T_442c7_row8_col2, #T_442c7_row8_col3, #T_442c7_row8_col4, #T_442c7_row8_col5, #T_442c7_row8_col6, #T_442c7_row8_col7, #T_442c7_row9_col0, #T_442c7_row9_col1, #T_442c7_row9_col2, #T_442c7_row9_col3, #T_442c7_row9_col4, #T_442c7_row9_col5, #T_442c7_row9_col6, #T_442c7_row9_col7, #T_442c7_row10_col0, #T_442c7_row10_col1, #T_442c7_row10_col2, #T_442c7_row10_col3, #T_442c7_row10_col4, #T_442c7_row10_col5, #T_442c7_row10_col6, #T_442c7_row10_col7, #T_442c7_row11_col0, #T_442c7_row11_col1, #T_442c7_row11_col2, #T_442c7_row11_col3, #T_442c7_row11_col4, #T_442c7_row11_col5, #T_442c7_row11_col6, #T_442c7_row11_col7, #T_442c7_row12_col0, #T_442c7_row12_col1, #T_442c7_row12_col2, #T_442c7_row12_col3, #T_442c7_row12_col4, #T_442c7_row12_col5, #T_442c7_row12_col6, #T_442c7_row12_col7, #T_442c7_row13_col0, #T_442c7_row13_col1, #T_442c7_row13_col2, #T_442c7_row13_col3, #T_442c7_row13_col4, #T_442c7_row13_col5, #T_442c7_row13_col6, #T_442c7_row13_col7 {\n",
       "  text-align: left;\n",
       "}\n",
       "#T_442c7_row0_col1, #T_442c7_row0_col3, #T_442c7_row0_col4, #T_442c7_row0_col5, #T_442c7_row0_col6, #T_442c7_row0_col7, #T_442c7_row2_col2 {\n",
       "  text-align: left;\n",
       "  background-color: yellow;\n",
       "}\n",
       "#T_442c7_row0_col8, #T_442c7_row2_col8, #T_442c7_row3_col8, #T_442c7_row4_col8, #T_442c7_row6_col8, #T_442c7_row7_col8, #T_442c7_row9_col8, #T_442c7_row10_col8, #T_442c7_row11_col8, #T_442c7_row12_col8, #T_442c7_row13_col8 {\n",
       "  text-align: left;\n",
       "  background-color: lightgrey;\n",
       "}\n",
       "#T_442c7_row1_col8, #T_442c7_row5_col8, #T_442c7_row8_col8 {\n",
       "  text-align: left;\n",
       "  background-color: yellow;\n",
       "  background-color: lightgrey;\n",
       "}\n",
       "</style>\n",
       "<table id=\"T_442c7\">\n",
       "  <thead>\n",
       "    <tr>\n",
       "      <th class=\"blank level0\" >&nbsp;</th>\n",
       "      <th id=\"T_442c7_level0_col0\" class=\"col_heading level0 col0\" >Model</th>\n",
       "      <th id=\"T_442c7_level0_col1\" class=\"col_heading level0 col1\" >Accuracy</th>\n",
       "      <th id=\"T_442c7_level0_col2\" class=\"col_heading level0 col2\" >AUC</th>\n",
       "      <th id=\"T_442c7_level0_col3\" class=\"col_heading level0 col3\" >Recall</th>\n",
       "      <th id=\"T_442c7_level0_col4\" class=\"col_heading level0 col4\" >Prec.</th>\n",
       "      <th id=\"T_442c7_level0_col5\" class=\"col_heading level0 col5\" >F1</th>\n",
       "      <th id=\"T_442c7_level0_col6\" class=\"col_heading level0 col6\" >Kappa</th>\n",
       "      <th id=\"T_442c7_level0_col7\" class=\"col_heading level0 col7\" >MCC</th>\n",
       "      <th id=\"T_442c7_level0_col8\" class=\"col_heading level0 col8\" >TT (Sec)</th>\n",
       "    </tr>\n",
       "  </thead>\n",
       "  <tbody>\n",
       "    <tr>\n",
       "      <th id=\"T_442c7_level0_row0\" class=\"row_heading level0 row0\" >lr</th>\n",
       "      <td id=\"T_442c7_row0_col0\" class=\"data row0 col0\" >Logistic Regression</td>\n",
       "      <td id=\"T_442c7_row0_col1\" class=\"data row0 col1\" >0.6473</td>\n",
       "      <td id=\"T_442c7_row0_col2\" class=\"data row0 col2\" >0.8163</td>\n",
       "      <td id=\"T_442c7_row0_col3\" class=\"data row0 col3\" >0.6271</td>\n",
       "      <td id=\"T_442c7_row0_col4\" class=\"data row0 col4\" >0.6798</td>\n",
       "      <td id=\"T_442c7_row0_col5\" class=\"data row0 col5\" >0.6478</td>\n",
       "      <td id=\"T_442c7_row0_col6\" class=\"data row0 col6\" >0.4571</td>\n",
       "      <td id=\"T_442c7_row0_col7\" class=\"data row0 col7\" >0.4677</td>\n",
       "      <td id=\"T_442c7_row0_col8\" class=\"data row0 col8\" >0.0310</td>\n",
       "    </tr>\n",
       "    <tr>\n",
       "      <th id=\"T_442c7_level0_row1\" class=\"row_heading level0 row1\" >ridge</th>\n",
       "      <td id=\"T_442c7_row1_col0\" class=\"data row1 col0\" >Ridge Classifier</td>\n",
       "      <td id=\"T_442c7_row1_col1\" class=\"data row1 col1\" >0.6324</td>\n",
       "      <td id=\"T_442c7_row1_col2\" class=\"data row1 col2\" >0.0000</td>\n",
       "      <td id=\"T_442c7_row1_col3\" class=\"data row1 col3\" >0.6076</td>\n",
       "      <td id=\"T_442c7_row1_col4\" class=\"data row1 col4\" >0.6487</td>\n",
       "      <td id=\"T_442c7_row1_col5\" class=\"data row1 col5\" >0.6192</td>\n",
       "      <td id=\"T_442c7_row1_col6\" class=\"data row1 col6\" >0.4266</td>\n",
       "      <td id=\"T_442c7_row1_col7\" class=\"data row1 col7\" >0.4415</td>\n",
       "      <td id=\"T_442c7_row1_col8\" class=\"data row1 col8\" >0.0030</td>\n",
       "    </tr>\n",
       "    <tr>\n",
       "      <th id=\"T_442c7_level0_row2\" class=\"row_heading level0 row2\" >lda</th>\n",
       "      <td id=\"T_442c7_row2_col0\" class=\"data row2 col0\" >Linear Discriminant Analysis</td>\n",
       "      <td id=\"T_442c7_row2_col1\" class=\"data row2 col1\" >0.6324</td>\n",
       "      <td id=\"T_442c7_row2_col2\" class=\"data row2 col2\" >0.8354</td>\n",
       "      <td id=\"T_442c7_row2_col3\" class=\"data row2 col3\" >0.6087</td>\n",
       "      <td id=\"T_442c7_row2_col4\" class=\"data row2 col4\" >0.6682</td>\n",
       "      <td id=\"T_442c7_row2_col5\" class=\"data row2 col5\" >0.6301</td>\n",
       "      <td id=\"T_442c7_row2_col6\" class=\"data row2 col6\" >0.4318</td>\n",
       "      <td id=\"T_442c7_row2_col7\" class=\"data row2 col7\" >0.4431</td>\n",
       "      <td id=\"T_442c7_row2_col8\" class=\"data row2 col8\" >0.0050</td>\n",
       "    </tr>\n",
       "    <tr>\n",
       "      <th id=\"T_442c7_level0_row3\" class=\"row_heading level0 row3\" >lightgbm</th>\n",
       "      <td id=\"T_442c7_row3_col0\" class=\"data row3 col0\" >Light Gradient Boosting Machine</td>\n",
       "      <td id=\"T_442c7_row3_col1\" class=\"data row3 col1\" >0.6110</td>\n",
       "      <td id=\"T_442c7_row3_col2\" class=\"data row3 col2\" >0.7835</td>\n",
       "      <td id=\"T_442c7_row3_col3\" class=\"data row3 col3\" >0.5929</td>\n",
       "      <td id=\"T_442c7_row3_col4\" class=\"data row3 col4\" >0.6255</td>\n",
       "      <td id=\"T_442c7_row3_col5\" class=\"data row3 col5\" >0.6042</td>\n",
       "      <td id=\"T_442c7_row3_col6\" class=\"data row3 col6\" >0.4025</td>\n",
       "      <td id=\"T_442c7_row3_col7\" class=\"data row3 col7\" >0.4112</td>\n",
       "      <td id=\"T_442c7_row3_col8\" class=\"data row3 col8\" >0.0130</td>\n",
       "    </tr>\n",
       "    <tr>\n",
       "      <th id=\"T_442c7_level0_row4\" class=\"row_heading level0 row4\" >gbc</th>\n",
       "      <td id=\"T_442c7_row4_col0\" class=\"data row4 col0\" >Gradient Boosting Classifier</td>\n",
       "      <td id=\"T_442c7_row4_col1\" class=\"data row4 col1\" >0.5962</td>\n",
       "      <td id=\"T_442c7_row4_col2\" class=\"data row4 col2\" >0.8020</td>\n",
       "      <td id=\"T_442c7_row4_col3\" class=\"data row4 col3\" >0.5674</td>\n",
       "      <td id=\"T_442c7_row4_col4\" class=\"data row4 col4\" >0.5943</td>\n",
       "      <td id=\"T_442c7_row4_col5\" class=\"data row4 col5\" >0.5839</td>\n",
       "      <td id=\"T_442c7_row4_col6\" class=\"data row4 col6\" >0.3730</td>\n",
       "      <td id=\"T_442c7_row4_col7\" class=\"data row4 col7\" >0.3801</td>\n",
       "      <td id=\"T_442c7_row4_col8\" class=\"data row4 col8\" >0.0440</td>\n",
       "    </tr>\n",
       "    <tr>\n",
       "      <th id=\"T_442c7_level0_row5\" class=\"row_heading level0 row5\" >dt</th>\n",
       "      <td id=\"T_442c7_row5_col0\" class=\"data row5 col0\" >Decision Tree Classifier</td>\n",
       "      <td id=\"T_442c7_row5_col1\" class=\"data row5 col1\" >0.5890</td>\n",
       "      <td id=\"T_442c7_row5_col2\" class=\"data row5 col2\" >0.6996</td>\n",
       "      <td id=\"T_442c7_row5_col3\" class=\"data row5 col3\" >0.5729</td>\n",
       "      <td id=\"T_442c7_row5_col4\" class=\"data row5 col4\" >0.6334</td>\n",
       "      <td id=\"T_442c7_row5_col5\" class=\"data row5 col5\" >0.5945</td>\n",
       "      <td id=\"T_442c7_row5_col6\" class=\"data row5 col6\" >0.3801</td>\n",
       "      <td id=\"T_442c7_row5_col7\" class=\"data row5 col7\" >0.3903</td>\n",
       "      <td id=\"T_442c7_row5_col8\" class=\"data row5 col8\" >0.0030</td>\n",
       "    </tr>\n",
       "    <tr>\n",
       "      <th id=\"T_442c7_level0_row6\" class=\"row_heading level0 row6\" >rf</th>\n",
       "      <td id=\"T_442c7_row6_col0\" class=\"data row6 col0\" >Random Forest Classifier</td>\n",
       "      <td id=\"T_442c7_row6_col1\" class=\"data row6 col1\" >0.5824</td>\n",
       "      <td id=\"T_442c7_row6_col2\" class=\"data row6 col2\" >0.7831</td>\n",
       "      <td id=\"T_442c7_row6_col3\" class=\"data row6 col3\" >0.5604</td>\n",
       "      <td id=\"T_442c7_row6_col4\" class=\"data row6 col4\" >0.6036</td>\n",
       "      <td id=\"T_442c7_row6_col5\" class=\"data row6 col5\" >0.5654</td>\n",
       "      <td id=\"T_442c7_row6_col6\" class=\"data row6 col6\" >0.3579</td>\n",
       "      <td id=\"T_442c7_row6_col7\" class=\"data row6 col7\" >0.3719</td>\n",
       "      <td id=\"T_442c7_row6_col8\" class=\"data row6 col8\" >0.0530</td>\n",
       "    </tr>\n",
       "    <tr>\n",
       "      <th id=\"T_442c7_level0_row7\" class=\"row_heading level0 row7\" >et</th>\n",
       "      <td id=\"T_442c7_row7_col0\" class=\"data row7 col0\" >Extra Trees Classifier</td>\n",
       "      <td id=\"T_442c7_row7_col1\" class=\"data row7 col1\" >0.5819</td>\n",
       "      <td id=\"T_442c7_row7_col2\" class=\"data row7 col2\" >0.7832</td>\n",
       "      <td id=\"T_442c7_row7_col3\" class=\"data row7 col3\" >0.5667</td>\n",
       "      <td id=\"T_442c7_row7_col4\" class=\"data row7 col4\" >0.5841</td>\n",
       "      <td id=\"T_442c7_row7_col5\" class=\"data row7 col5\" >0.5596</td>\n",
       "      <td id=\"T_442c7_row7_col6\" class=\"data row7 col6\" >0.3567</td>\n",
       "      <td id=\"T_442c7_row7_col7\" class=\"data row7 col7\" >0.3710</td>\n",
       "      <td id=\"T_442c7_row7_col8\" class=\"data row7 col8\" >0.0410</td>\n",
       "    </tr>\n",
       "    <tr>\n",
       "      <th id=\"T_442c7_level0_row8\" class=\"row_heading level0 row8\" >nb</th>\n",
       "      <td id=\"T_442c7_row8_col0\" class=\"data row8 col0\" >Naive Bayes</td>\n",
       "      <td id=\"T_442c7_row8_col1\" class=\"data row8 col1\" >0.5681</td>\n",
       "      <td id=\"T_442c7_row8_col2\" class=\"data row8 col2\" >0.8270</td>\n",
       "      <td id=\"T_442c7_row8_col3\" class=\"data row8 col3\" >0.5421</td>\n",
       "      <td id=\"T_442c7_row8_col4\" class=\"data row8 col4\" >0.4933</td>\n",
       "      <td id=\"T_442c7_row8_col5\" class=\"data row8 col5\" >0.4933</td>\n",
       "      <td id=\"T_442c7_row8_col6\" class=\"data row8 col6\" >0.3298</td>\n",
       "      <td id=\"T_442c7_row8_col7\" class=\"data row8 col7\" >0.3706</td>\n",
       "      <td id=\"T_442c7_row8_col8\" class=\"data row8 col8\" >0.0030</td>\n",
       "    </tr>\n",
       "    <tr>\n",
       "      <th id=\"T_442c7_level0_row9\" class=\"row_heading level0 row9\" >ada</th>\n",
       "      <td id=\"T_442c7_row9_col0\" class=\"data row9 col0\" >Ada Boost Classifier</td>\n",
       "      <td id=\"T_442c7_row9_col1\" class=\"data row9 col1\" >0.5615</td>\n",
       "      <td id=\"T_442c7_row9_col2\" class=\"data row9 col2\" >0.8161</td>\n",
       "      <td id=\"T_442c7_row9_col3\" class=\"data row9 col3\" >0.5295</td>\n",
       "      <td id=\"T_442c7_row9_col4\" class=\"data row9 col4\" >0.5626</td>\n",
       "      <td id=\"T_442c7_row9_col5\" class=\"data row9 col5\" >0.5487</td>\n",
       "      <td id=\"T_442c7_row9_col6\" class=\"data row9 col6\" >0.3269</td>\n",
       "      <td id=\"T_442c7_row9_col7\" class=\"data row9 col7\" >0.3362</td>\n",
       "      <td id=\"T_442c7_row9_col8\" class=\"data row9 col8\" >0.0220</td>\n",
       "    </tr>\n",
       "    <tr>\n",
       "      <th id=\"T_442c7_level0_row10\" class=\"row_heading level0 row10\" >knn</th>\n",
       "      <td id=\"T_442c7_row10_col0\" class=\"data row10 col0\" >K Neighbors Classifier</td>\n",
       "      <td id=\"T_442c7_row10_col1\" class=\"data row10 col1\" >0.5604</td>\n",
       "      <td id=\"T_442c7_row10_col2\" class=\"data row10 col2\" >0.7099</td>\n",
       "      <td id=\"T_442c7_row10_col3\" class=\"data row10 col3\" >0.5279</td>\n",
       "      <td id=\"T_442c7_row10_col4\" class=\"data row10 col4\" >0.5812</td>\n",
       "      <td id=\"T_442c7_row10_col5\" class=\"data row10 col5\" >0.5486</td>\n",
       "      <td id=\"T_442c7_row10_col6\" class=\"data row10 col6\" >0.3208</td>\n",
       "      <td id=\"T_442c7_row10_col7\" class=\"data row10 col7\" >0.3344</td>\n",
       "      <td id=\"T_442c7_row10_col8\" class=\"data row10 col8\" >0.0070</td>\n",
       "    </tr>\n",
       "    <tr>\n",
       "      <th id=\"T_442c7_level0_row11\" class=\"row_heading level0 row11\" >svm</th>\n",
       "      <td id=\"T_442c7_row11_col0\" class=\"data row11 col0\" >SVM - Linear Kernel</td>\n",
       "      <td id=\"T_442c7_row11_col1\" class=\"data row11 col1\" >0.5604</td>\n",
       "      <td id=\"T_442c7_row11_col2\" class=\"data row11 col2\" >0.0000</td>\n",
       "      <td id=\"T_442c7_row11_col3\" class=\"data row11 col3\" >0.5204</td>\n",
       "      <td id=\"T_442c7_row11_col4\" class=\"data row11 col4\" >0.5396</td>\n",
       "      <td id=\"T_442c7_row11_col5\" class=\"data row11 col5\" >0.5108</td>\n",
       "      <td id=\"T_442c7_row11_col6\" class=\"data row11 col6\" >0.3081</td>\n",
       "      <td id=\"T_442c7_row11_col7\" class=\"data row11 col7\" >0.3410</td>\n",
       "      <td id=\"T_442c7_row11_col8\" class=\"data row11 col8\" >0.0120</td>\n",
       "    </tr>\n",
       "    <tr>\n",
       "      <th id=\"T_442c7_level0_row12\" class=\"row_heading level0 row12\" >dummy</th>\n",
       "      <td id=\"T_442c7_row12_col0\" class=\"data row12 col0\" >Dummy Classifier</td>\n",
       "      <td id=\"T_442c7_row12_col1\" class=\"data row12 col1\" >0.4390</td>\n",
       "      <td id=\"T_442c7_row12_col2\" class=\"data row12 col2\" >0.5000</td>\n",
       "      <td id=\"T_442c7_row12_col3\" class=\"data row12 col3\" >0.3333</td>\n",
       "      <td id=\"T_442c7_row12_col4\" class=\"data row12 col4\" >0.1932</td>\n",
       "      <td id=\"T_442c7_row12_col5\" class=\"data row12 col5\" >0.2682</td>\n",
       "      <td id=\"T_442c7_row12_col6\" class=\"data row12 col6\" >0.0000</td>\n",
       "      <td id=\"T_442c7_row12_col7\" class=\"data row12 col7\" >0.0000</td>\n",
       "      <td id=\"T_442c7_row12_col8\" class=\"data row12 col8\" >0.0040</td>\n",
       "    </tr>\n",
       "    <tr>\n",
       "      <th id=\"T_442c7_level0_row13\" class=\"row_heading level0 row13\" >qda</th>\n",
       "      <td id=\"T_442c7_row13_col0\" class=\"data row13 col0\" >Quadratic Discriminant Analysis</td>\n",
       "      <td id=\"T_442c7_row13_col1\" class=\"data row13 col1\" >0.4379</td>\n",
       "      <td id=\"T_442c7_row13_col2\" class=\"data row13 col2\" >0.6146</td>\n",
       "      <td id=\"T_442c7_row13_col3\" class=\"data row13 col3\" >0.4089</td>\n",
       "      <td id=\"T_442c7_row13_col4\" class=\"data row13 col4\" >0.4562</td>\n",
       "      <td id=\"T_442c7_row13_col5\" class=\"data row13 col5\" >0.3988</td>\n",
       "      <td id=\"T_442c7_row13_col6\" class=\"data row13 col6\" >0.1105</td>\n",
       "      <td id=\"T_442c7_row13_col7\" class=\"data row13 col7\" >0.1284</td>\n",
       "      <td id=\"T_442c7_row13_col8\" class=\"data row13 col8\" >0.0120</td>\n",
       "    </tr>\n",
       "  </tbody>\n",
       "</table>\n"
      ],
      "text/plain": [
       "<pandas.io.formats.style.Styler at 0x24f16c5a070>"
      ]
     },
     "metadata": {},
     "output_type": "display_data"
    }
   ],
   "source": [
    "best_model = compare_models()"
   ]
  },
  {
   "cell_type": "code",
   "execution_count": 15,
   "id": "ad2483ec",
   "metadata": {
    "ExecuteTime": {
     "end_time": "2022-10-03T17:24:50.299705Z",
     "start_time": "2022-10-03T17:24:50.285234Z"
    }
   },
   "outputs": [
    {
     "name": "stdout",
     "output_type": "stream",
     "text": [
      "GradientBoostingClassifier(ccp_alpha=0.0, criterion='friedman_mse', init=None,\n",
      "                           learning_rate=0.1, loss='deviance', max_depth=3,\n",
      "                           max_features=None, max_leaf_nodes=None,\n",
      "                           min_impurity_decrease=0.0, min_impurity_split=None,\n",
      "                           min_samples_leaf=1, min_samples_split=2,\n",
      "                           min_weight_fraction_leaf=0.0, n_estimators=100,\n",
      "                           n_iter_no_change=None, presort='deprecated',\n",
      "                           random_state=42, subsample=1.0, tol=0.0001,\n",
      "                           validation_fraction=0.1, verbose=0,\n",
      "                           warm_start=False)\n"
     ]
    }
   ],
   "source": [
    "print(best_model)"
   ]
  },
  {
   "cell_type": "code",
   "execution_count": 27,
   "id": "3635be5e",
   "metadata": {
    "ExecuteTime": {
     "end_time": "2022-10-03T17:30:32.929737Z",
     "start_time": "2022-10-03T17:30:32.299471Z"
    }
   },
   "outputs": [
    {
     "data": {
      "text/html": [
       "<style type=\"text/css\">\n",
       "#T_20a55_row10_col0, #T_20a55_row10_col1, #T_20a55_row10_col2, #T_20a55_row10_col3, #T_20a55_row10_col4, #T_20a55_row10_col5, #T_20a55_row10_col6 {\n",
       "  background: yellow;\n",
       "}\n",
       "</style>\n",
       "<table id=\"T_20a55\">\n",
       "  <thead>\n",
       "    <tr>\n",
       "      <th class=\"blank level0\" >&nbsp;</th>\n",
       "      <th id=\"T_20a55_level0_col0\" class=\"col_heading level0 col0\" >Accuracy</th>\n",
       "      <th id=\"T_20a55_level0_col1\" class=\"col_heading level0 col1\" >AUC</th>\n",
       "      <th id=\"T_20a55_level0_col2\" class=\"col_heading level0 col2\" >Recall</th>\n",
       "      <th id=\"T_20a55_level0_col3\" class=\"col_heading level0 col3\" >Prec.</th>\n",
       "      <th id=\"T_20a55_level0_col4\" class=\"col_heading level0 col4\" >F1</th>\n",
       "      <th id=\"T_20a55_level0_col5\" class=\"col_heading level0 col5\" >Kappa</th>\n",
       "      <th id=\"T_20a55_level0_col6\" class=\"col_heading level0 col6\" >MCC</th>\n",
       "    </tr>\n",
       "    <tr>\n",
       "      <th class=\"index_name level0\" >Fold</th>\n",
       "      <th class=\"blank col0\" >&nbsp;</th>\n",
       "      <th class=\"blank col1\" >&nbsp;</th>\n",
       "      <th class=\"blank col2\" >&nbsp;</th>\n",
       "      <th class=\"blank col3\" >&nbsp;</th>\n",
       "      <th class=\"blank col4\" >&nbsp;</th>\n",
       "      <th class=\"blank col5\" >&nbsp;</th>\n",
       "      <th class=\"blank col6\" >&nbsp;</th>\n",
       "    </tr>\n",
       "  </thead>\n",
       "  <tbody>\n",
       "    <tr>\n",
       "      <th id=\"T_20a55_level0_row0\" class=\"row_heading level0 row0\" >0</th>\n",
       "      <td id=\"T_20a55_row0_col0\" class=\"data row0 col0\" >0.7857</td>\n",
       "      <td id=\"T_20a55_row0_col1\" class=\"data row0 col1\" >0.8232</td>\n",
       "      <td id=\"T_20a55_row0_col2\" class=\"data row0 col2\" >0.7500</td>\n",
       "      <td id=\"T_20a55_row0_col3\" class=\"data row0 col3\" >0.8214</td>\n",
       "      <td id=\"T_20a55_row0_col4\" class=\"data row0 col4\" >0.7721</td>\n",
       "      <td id=\"T_20a55_row0_col5\" class=\"data row0 col5\" >0.6613</td>\n",
       "      <td id=\"T_20a55_row0_col6\" class=\"data row0 col6\" >0.6849</td>\n",
       "    </tr>\n",
       "    <tr>\n",
       "      <th id=\"T_20a55_level0_row1\" class=\"row_heading level0 row1\" >1</th>\n",
       "      <td id=\"T_20a55_row1_col0\" class=\"data row1 col0\" >0.5714</td>\n",
       "      <td id=\"T_20a55_row1_col1\" class=\"data row1 col1\" >0.7518</td>\n",
       "      <td id=\"T_20a55_row1_col2\" class=\"data row1 col2\" >0.5556</td>\n",
       "      <td id=\"T_20a55_row1_col3\" class=\"data row1 col3\" >0.6000</td>\n",
       "      <td id=\"T_20a55_row1_col4\" class=\"data row1 col4\" >0.5815</td>\n",
       "      <td id=\"T_20a55_row1_col5\" class=\"data row1 col5\" >0.3538</td>\n",
       "      <td id=\"T_20a55_row1_col6\" class=\"data row1 col6\" >0.3566</td>\n",
       "    </tr>\n",
       "    <tr>\n",
       "      <th id=\"T_20a55_level0_row2\" class=\"row_heading level0 row2\" >2</th>\n",
       "      <td id=\"T_20a55_row2_col0\" class=\"data row2 col0\" >0.7143</td>\n",
       "      <td id=\"T_20a55_row2_col1\" class=\"data row2 col1\" >0.9179</td>\n",
       "      <td id=\"T_20a55_row2_col2\" class=\"data row2 col2\" >0.6944</td>\n",
       "      <td id=\"T_20a55_row2_col3\" class=\"data row2 col3\" >0.7619</td>\n",
       "      <td id=\"T_20a55_row2_col4\" class=\"data row2 col4\" >0.7243</td>\n",
       "      <td id=\"T_20a55_row2_col5\" class=\"data row2 col5\" >0.5692</td>\n",
       "      <td id=\"T_20a55_row2_col6\" class=\"data row2 col6\" >0.5827</td>\n",
       "    </tr>\n",
       "    <tr>\n",
       "      <th id=\"T_20a55_level0_row3\" class=\"row_heading level0 row3\" >3</th>\n",
       "      <td id=\"T_20a55_row3_col0\" class=\"data row3 col0\" >0.6429</td>\n",
       "      <td id=\"T_20a55_row3_col1\" class=\"data row3 col1\" >0.7839</td>\n",
       "      <td id=\"T_20a55_row3_col2\" class=\"data row3 col2\" >0.6389</td>\n",
       "      <td id=\"T_20a55_row3_col3\" class=\"data row3 col3\" >0.6571</td>\n",
       "      <td id=\"T_20a55_row3_col4\" class=\"data row3 col4\" >0.6450</td>\n",
       "      <td id=\"T_20a55_row3_col5\" class=\"data row3 col5\" >0.4615</td>\n",
       "      <td id=\"T_20a55_row3_col6\" class=\"data row3 col6\" >0.4651</td>\n",
       "    </tr>\n",
       "    <tr>\n",
       "      <th id=\"T_20a55_level0_row4\" class=\"row_heading level0 row4\" >4</th>\n",
       "      <td id=\"T_20a55_row4_col0\" class=\"data row4 col0\" >0.8571</td>\n",
       "      <td id=\"T_20a55_row4_col1\" class=\"data row4 col1\" >0.8768</td>\n",
       "      <td id=\"T_20a55_row4_col2\" class=\"data row4 col2\" >0.8333</td>\n",
       "      <td id=\"T_20a55_row4_col3\" class=\"data row4 col3\" >0.8673</td>\n",
       "      <td id=\"T_20a55_row4_col4\" class=\"data row4 col4\" >0.8548</td>\n",
       "      <td id=\"T_20a55_row4_col5\" class=\"data row4 col5\" >0.7778</td>\n",
       "      <td id=\"T_20a55_row4_col6\" class=\"data row4 col6\" >0.7842</td>\n",
       "    </tr>\n",
       "    <tr>\n",
       "      <th id=\"T_20a55_level0_row5\" class=\"row_heading level0 row5\" >5</th>\n",
       "      <td id=\"T_20a55_row5_col0\" class=\"data row5 col0\" >0.6429</td>\n",
       "      <td id=\"T_20a55_row5_col1\" class=\"data row5 col1\" >0.8714</td>\n",
       "      <td id=\"T_20a55_row5_col2\" class=\"data row5 col2\" >0.6389</td>\n",
       "      <td id=\"T_20a55_row5_col3\" class=\"data row5 col3\" >0.7143</td>\n",
       "      <td id=\"T_20a55_row5_col4\" class=\"data row5 col4\" >0.6476</td>\n",
       "      <td id=\"T_20a55_row5_col5\" class=\"data row5 col5\" >0.4531</td>\n",
       "      <td id=\"T_20a55_row5_col6\" class=\"data row5 col6\" >0.4680</td>\n",
       "    </tr>\n",
       "    <tr>\n",
       "      <th id=\"T_20a55_level0_row6\" class=\"row_heading level0 row6\" >6</th>\n",
       "      <td id=\"T_20a55_row6_col0\" class=\"data row6 col0\" >0.7143</td>\n",
       "      <td id=\"T_20a55_row6_col1\" class=\"data row6 col1\" >0.8299</td>\n",
       "      <td id=\"T_20a55_row6_col2\" class=\"data row6 col2\" >0.6444</td>\n",
       "      <td id=\"T_20a55_row6_col3\" class=\"data row6 col3\" >0.6888</td>\n",
       "      <td id=\"T_20a55_row6_col4\" class=\"data row6 col4\" >0.6956</td>\n",
       "      <td id=\"T_20a55_row6_col5\" class=\"data row6 col5\" >0.5447</td>\n",
       "      <td id=\"T_20a55_row6_col6\" class=\"data row6 col6\" >0.5495</td>\n",
       "    </tr>\n",
       "    <tr>\n",
       "      <th id=\"T_20a55_level0_row7\" class=\"row_heading level0 row7\" >7</th>\n",
       "      <td id=\"T_20a55_row7_col0\" class=\"data row7 col0\" >0.3571</td>\n",
       "      <td id=\"T_20a55_row7_col1\" class=\"data row7 col1\" >0.6841</td>\n",
       "      <td id=\"T_20a55_row7_col2\" class=\"data row7 col2\" >0.3444</td>\n",
       "      <td id=\"T_20a55_row7_col3\" class=\"data row7 col3\" >0.3571</td>\n",
       "      <td id=\"T_20a55_row7_col4\" class=\"data row7 col4\" >0.3549</td>\n",
       "      <td id=\"T_20a55_row7_col5\" class=\"data row7 col5\" >0.0156</td>\n",
       "      <td id=\"T_20a55_row7_col6\" class=\"data row7 col6\" >0.0157</td>\n",
       "    </tr>\n",
       "    <tr>\n",
       "      <th id=\"T_20a55_level0_row8\" class=\"row_heading level0 row8\" >8</th>\n",
       "      <td id=\"T_20a55_row8_col0\" class=\"data row8 col0\" >0.5714</td>\n",
       "      <td id=\"T_20a55_row8_col1\" class=\"data row8 col1\" >0.8590</td>\n",
       "      <td id=\"T_20a55_row8_col2\" class=\"data row8 col2\" >0.6151</td>\n",
       "      <td id=\"T_20a55_row8_col3\" class=\"data row8 col3\" >0.6571</td>\n",
       "      <td id=\"T_20a55_row8_col4\" class=\"data row8 col4\" >0.5901</td>\n",
       "      <td id=\"T_20a55_row8_col5\" class=\"data row8 col5\" >0.3588</td>\n",
       "      <td id=\"T_20a55_row8_col6\" class=\"data row8 col6\" >0.3791</td>\n",
       "    </tr>\n",
       "    <tr>\n",
       "      <th id=\"T_20a55_level0_row9\" class=\"row_heading level0 row9\" >9</th>\n",
       "      <td id=\"T_20a55_row9_col0\" class=\"data row9 col0\" >0.6154</td>\n",
       "      <td id=\"T_20a55_row9_col1\" class=\"data row9 col1\" >0.7651</td>\n",
       "      <td id=\"T_20a55_row9_col2\" class=\"data row9 col2\" >0.5556</td>\n",
       "      <td id=\"T_20a55_row9_col3\" class=\"data row9 col3\" >0.6731</td>\n",
       "      <td id=\"T_20a55_row9_col4\" class=\"data row9 col4\" >0.6117</td>\n",
       "      <td id=\"T_20a55_row9_col5\" class=\"data row9 col5\" >0.3750</td>\n",
       "      <td id=\"T_20a55_row9_col6\" class=\"data row9 col6\" >0.3913</td>\n",
       "    </tr>\n",
       "    <tr>\n",
       "      <th id=\"T_20a55_level0_row10\" class=\"row_heading level0 row10\" >Mean</th>\n",
       "      <td id=\"T_20a55_row10_col0\" class=\"data row10 col0\" >0.6473</td>\n",
       "      <td id=\"T_20a55_row10_col1\" class=\"data row10 col1\" >0.8163</td>\n",
       "      <td id=\"T_20a55_row10_col2\" class=\"data row10 col2\" >0.6271</td>\n",
       "      <td id=\"T_20a55_row10_col3\" class=\"data row10 col3\" >0.6798</td>\n",
       "      <td id=\"T_20a55_row10_col4\" class=\"data row10 col4\" >0.6478</td>\n",
       "      <td id=\"T_20a55_row10_col5\" class=\"data row10 col5\" >0.4571</td>\n",
       "      <td id=\"T_20a55_row10_col6\" class=\"data row10 col6\" >0.4677</td>\n",
       "    </tr>\n",
       "    <tr>\n",
       "      <th id=\"T_20a55_level0_row11\" class=\"row_heading level0 row11\" >Std</th>\n",
       "      <td id=\"T_20a55_row11_col0\" class=\"data row11 col0\" >0.1300</td>\n",
       "      <td id=\"T_20a55_row11_col1\" class=\"data row11 col1\" >0.0666</td>\n",
       "      <td id=\"T_20a55_row11_col2\" class=\"data row11 col2\" >0.1237</td>\n",
       "      <td id=\"T_20a55_row11_col3\" class=\"data row11 col3\" >0.1322</td>\n",
       "      <td id=\"T_20a55_row11_col4\" class=\"data row11 col4\" >0.1270</td>\n",
       "      <td id=\"T_20a55_row11_col5\" class=\"data row11 col5\" >0.1967</td>\n",
       "      <td id=\"T_20a55_row11_col6\" class=\"data row11 col6\" >0.1994</td>\n",
       "    </tr>\n",
       "  </tbody>\n",
       "</table>\n"
      ],
      "text/plain": [
       "<pandas.io.formats.style.Styler at 0x24f17744760>"
      ]
     },
     "metadata": {},
     "output_type": "display_data"
    }
   ],
   "source": [
    "model = create_model('lr')"
   ]
  },
  {
   "cell_type": "code",
   "execution_count": 28,
   "id": "afabb1d9",
   "metadata": {
    "ExecuteTime": {
     "end_time": "2022-10-03T17:30:39.013209Z",
     "start_time": "2022-10-03T17:30:38.843662Z"
    }
   },
   "outputs": [
    {
     "data": {
      "application/vnd.jupyter.widget-view+json": {
       "model_id": "8948b7b4b0304758a7ab424260a36a6f",
       "version_major": 2,
       "version_minor": 0
      },
      "text/plain": [
       "interactive(children=(ToggleButtons(description='Plot Type:', icons=('',), options=(('Hyperparameters', 'param…"
      ]
     },
     "metadata": {},
     "output_type": "display_data"
    }
   ],
   "source": [
    "evaluate_model(model)"
   ]
  },
  {
   "cell_type": "code",
   "execution_count": 29,
   "id": "eed4ed0a",
   "metadata": {
    "ExecuteTime": {
     "end_time": "2022-10-03T17:31:31.210875Z",
     "start_time": "2022-10-03T17:31:30.645360Z"
    }
   },
   "outputs": [],
   "source": [
    "final_model = finalize_model(model)"
   ]
  },
  {
   "cell_type": "code",
   "execution_count": null,
   "id": "687a7e7e",
   "metadata": {},
   "outputs": [],
   "source": []
  }
 ],
 "metadata": {
  "kernelspec": {
   "display_name": "firstEnv",
   "language": "python",
   "name": "firstenv"
  },
  "language_info": {
   "codemirror_mode": {
    "name": "ipython",
    "version": 3
   },
   "file_extension": ".py",
   "mimetype": "text/x-python",
   "name": "python",
   "nbconvert_exporter": "python",
   "pygments_lexer": "ipython3",
   "version": "3.8.13"
  },
  "toc": {
   "base_numbering": 1,
   "nav_menu": {},
   "number_sections": true,
   "sideBar": true,
   "skip_h1_title": false,
   "title_cell": "Table of Contents",
   "title_sidebar": "Contents",
   "toc_cell": false,
   "toc_position": {},
   "toc_section_display": true,
   "toc_window_display": false
  },
  "varInspector": {
   "cols": {
    "lenName": 16,
    "lenType": 16,
    "lenVar": 40
   },
   "kernels_config": {
    "python": {
     "delete_cmd_postfix": "",
     "delete_cmd_prefix": "del ",
     "library": "var_list.py",
     "varRefreshCmd": "print(var_dic_list())"
    },
    "r": {
     "delete_cmd_postfix": ") ",
     "delete_cmd_prefix": "rm(",
     "library": "var_list.r",
     "varRefreshCmd": "cat(var_dic_list()) "
    }
   },
   "types_to_exclude": [
    "module",
    "function",
    "builtin_function_or_method",
    "instance",
    "_Feature"
   ],
   "window_display": false
  }
 },
 "nbformat": 4,
 "nbformat_minor": 5
}
